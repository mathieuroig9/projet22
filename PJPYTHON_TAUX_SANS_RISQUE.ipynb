{
  "nbformat": 4,
  "nbformat_minor": 0,
  "metadata": {
    "colab": {
      "provenance": [],
      "authorship_tag": "ABX9TyMjZt17h1uLzcGYbIEAR7TA",
      "include_colab_link": true
    },
    "kernelspec": {
      "name": "python3",
      "display_name": "Python 3"
    },
    "language_info": {
      "name": "python"
    }
  },
  "cells": [
    {
      "cell_type": "markdown",
      "metadata": {
        "id": "view-in-github",
        "colab_type": "text"
      },
      "source": [
        "<a href=\"https://colab.research.google.com/github/mathieuroig9/projet22/blob/main/PJPYTHON_TAUX_SANS_RISQUE.ipynb\" target=\"_parent\"><img src=\"https://colab.research.google.com/assets/colab-badge.svg\" alt=\"Open In Colab\"/></a>"
      ]
    },
    {
      "cell_type": "code",
      "execution_count": null,
      "metadata": {
        "colab": {
          "base_uri": "https://localhost:8080/"
        },
        "id": "8JyfOSBgQr33",
        "outputId": "c412e866-6fcb-4ce7-b564-34ed50a93358"
      },
      "outputs": [
        {
          "output_type": "stream",
          "name": "stdout",
          "text": [
            "Requirement already satisfied: requests in /usr/local/lib/python3.10/dist-packages (2.32.3)\n",
            "Requirement already satisfied: pandas in /usr/local/lib/python3.10/dist-packages (2.2.2)\n",
            "Requirement already satisfied: charset-normalizer<4,>=2 in /usr/local/lib/python3.10/dist-packages (from requests) (3.4.0)\n",
            "Requirement already satisfied: idna<4,>=2.5 in /usr/local/lib/python3.10/dist-packages (from requests) (3.10)\n",
            "Requirement already satisfied: urllib3<3,>=1.21.1 in /usr/local/lib/python3.10/dist-packages (from requests) (2.2.3)\n",
            "Requirement already satisfied: certifi>=2017.4.17 in /usr/local/lib/python3.10/dist-packages (from requests) (2024.8.30)\n",
            "Requirement already satisfied: numpy>=1.22.4 in /usr/local/lib/python3.10/dist-packages (from pandas) (1.26.4)\n",
            "Requirement already satisfied: python-dateutil>=2.8.2 in /usr/local/lib/python3.10/dist-packages (from pandas) (2.8.2)\n",
            "Requirement already satisfied: pytz>=2020.1 in /usr/local/lib/python3.10/dist-packages (from pandas) (2024.2)\n",
            "Requirement already satisfied: tzdata>=2022.7 in /usr/local/lib/python3.10/dist-packages (from pandas) (2024.2)\n",
            "Requirement already satisfied: six>=1.5 in /usr/local/lib/python3.10/dist-packages (from python-dateutil>=2.8.2->pandas) (1.16.0)\n"
          ]
        }
      ],
      "source": [
        "pip install requests pandas"
      ]
    },
    {
      "cell_type": "code",
      "source": [
        "import requests\n",
        "import pandas as pd\n",
        "\n",
        "# Fonction pour récupérer les données depuis l'API FRED\n",
        "def get_fred_data(series_id, api_key):\n",
        "    url = f\"https://api.stlouisfed.org/fred/series/observations\"\n",
        "    params = {\n",
        "        \"series_id\": series_id,\n",
        "        \"api_key\": api_key,\n",
        "        \"file_type\": \"json\"\n",
        "    }\n",
        "    response = requests.get(url, params=params)\n",
        "    if response.status_code == 200:\n",
        "        data = response.json()\n",
        "        if \"observations\" in data:\n",
        "            df = pd.DataFrame(data[\"observations\"])\n",
        "            df[\"date\"] = pd.to_datetime(df[\"date\"])\n",
        "            df[\"value\"] = pd.to_numeric(df[\"value\"], errors=\"coerce\")\n",
        "            return df[[\"date\", \"value\"]]\n",
        "        else:\n",
        "            print(f\"Aucune donnée pour {series_id}\")\n",
        "            return None\n",
        "    else:\n",
        "        print(f\"Erreur API pour {series_id}: {response.status_code}\")\n",
        "        return None\n",
        "\n",
        "# Clé API de FRED (à remplacer par la vôtre)\n",
        "api_key = \"982c933ec445b467499f63f143e687f0\"\n",
        "\n",
        "# Codes des séries FRED pour les rendements à 10 ans\n",
        "series = {\n",
        "    \"France (Zone Euro)\": \"IRLTLT01EZM156N\",\n",
        "    \"Germany\": \"IRLTLT01DEM156N\",\n",
        "    \"United Kingdom\": \"IRLTLT01GBM156N\"\n",
        "}\n",
        "\n",
        "# Récupération des données\n",
        "dfs = {}\n",
        "for country, series_id in series.items():\n",
        "    print(f\"Récupération des données pour {country}...\")\n",
        "    dfs[country] = get_fred_data(series_id, api_key)\n",
        "\n",
        "# Combiner les données\n",
        "valid_dfs = {k: v for k, v in dfs.items() if v is not None}\n",
        "if valid_dfs:\n",
        "    result = pd.concat(valid_dfs.values(), keys=valid_dfs.keys())\n",
        "    print(result)\n",
        "    result.to_csv(\"taux_sans_risque_fred.csv\")\n",
        "else:\n",
        "    print(\"Aucune donnée valide n'a été récupérée.\")"
      ],
      "metadata": {
        "colab": {
          "base_uri": "https://localhost:8080/"
        },
        "id": "8EUBkO4iSthE",
        "outputId": "6e7e930a-82bd-4e05-d15b-39c7ce321b7d"
      },
      "execution_count": null,
      "outputs": [
        {
          "output_type": "stream",
          "name": "stdout",
          "text": [
            "Récupération des données pour France (Zone Euro)...\n",
            "Récupération des données pour Germany...\n",
            "Récupération des données pour United Kingdom...\n",
            "                             date     value\n",
            "France (Zone Euro) 0   1970-01-01  7.752553\n",
            "                   1   1970-02-01  7.903703\n",
            "                   2   1970-03-01  8.112340\n",
            "                   3   1970-04-01  8.072667\n",
            "                   4   1970-05-01  8.243205\n",
            "...                           ...       ...\n",
            "United Kingdom     773 2024-06-01  4.164400\n",
            "                   774 2024-07-01  4.138600\n",
            "                   775 2024-08-01  3.944400\n",
            "                   776 2024-09-01  3.905300\n",
            "                   777 2024-10-01  4.199300\n",
            "\n",
            "[2258 rows x 2 columns]\n"
          ]
        }
      ]
    },
    {
      "cell_type": "code",
      "source": [
        "result.to_csv(\"taux_sans_risque_fred.csv\", index=True)"
      ],
      "metadata": {
        "id": "2BdKhpKnTKZ5"
      },
      "execution_count": null,
      "outputs": []
    },
    {
      "cell_type": "code",
      "source": [
        "result.to_csv(\"taux_sans_risque_fred.csv\", index=True)\n",
        "\n",
        "# Relire le fichier et afficher son contenu\n",
        "data = pd.read_csv(\"taux_sans_risque_fred.csv\")\n",
        "print(data)"
      ],
      "metadata": {
        "colab": {
          "base_uri": "https://localhost:8080/"
        },
        "id": "KkQw9FUFTtRV",
        "outputId": "fcd52f41-c11a-4f07-c76b-88f8d0f24ed0"
      },
      "execution_count": null,
      "outputs": [
        {
          "output_type": "stream",
          "name": "stdout",
          "text": [
            "              Unnamed: 0  Unnamed: 1        date     value\n",
            "0     France (Zone Euro)           0  1970-01-01  7.752553\n",
            "1     France (Zone Euro)           1  1970-02-01  7.903703\n",
            "2     France (Zone Euro)           2  1970-03-01  8.112340\n",
            "3     France (Zone Euro)           3  1970-04-01  8.072667\n",
            "4     France (Zone Euro)           4  1970-05-01  8.243205\n",
            "...                  ...         ...         ...       ...\n",
            "2253      United Kingdom         773  2024-06-01  4.164400\n",
            "2254      United Kingdom         774  2024-07-01  4.138600\n",
            "2255      United Kingdom         775  2024-08-01  3.944400\n",
            "2256      United Kingdom         776  2024-09-01  3.905300\n",
            "2257      United Kingdom         777  2024-10-01  4.199300\n",
            "\n",
            "[2258 rows x 4 columns]\n"
          ]
        }
      ]
    }
  ]
}